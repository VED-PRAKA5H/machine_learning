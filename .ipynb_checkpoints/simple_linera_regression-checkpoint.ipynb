{
 "cells": [
  {
   "cell_type": "markdown",
   "id": "ed3da69b-9cda-4411-ba19-6b44340d8478",
   "metadata": {},
   "source": [
    "## Step 1 - Importing libraries"
   ]
  },
  {
   "cell_type": "code",
   "execution_count": 4,
   "id": "37663e3d-3933-4373-9c8b-e866d04e42f7",
   "metadata": {},
   "outputs": [],
   "source": [
    "#Data manipulation and analysis \n",
    "import pandas as pd\n",
    "#Provides an array dataset and mathematical functions to be performed on arrays.\n",
    "import numpy as np\n",
    "# Plotting the graph \n",
    "import matplotlib.pyplot as plt"
   ]
  },
  {
   "cell_type": "markdown",
   "id": "490fff60-f62b-4c24-982f-f1eb9ccb6dcb",
   "metadata": {},
   "source": [
    "## Step 2: Data preparation/Pre-Processing"
   ]
  },
  {
   "cell_type": "code",
   "execution_count": 24,
   "id": "b8143a88-6abd-4231-8827-83ebb8141841",
   "metadata": {},
   "outputs": [],
   "source": [
    "dataset= pd.read_csv('data4.csv')"
   ]
  },
  {
   "cell_type": "code",
   "execution_count": 25,
   "id": "17a527af-18fb-4d51-9898-0f0fdddbdee3",
   "metadata": {},
   "outputs": [
    {
     "data": {
      "text/html": [
       "<div>\n",
       "<style scoped>\n",
       "    .dataframe tbody tr th:only-of-type {\n",
       "        vertical-align: middle;\n",
       "    }\n",
       "\n",
       "    .dataframe tbody tr th {\n",
       "        vertical-align: top;\n",
       "    }\n",
       "\n",
       "    .dataframe thead th {\n",
       "        text-align: right;\n",
       "    }\n",
       "</style>\n",
       "<table border=\"1\" class=\"dataframe\">\n",
       "  <thead>\n",
       "    <tr style=\"text-align: right;\">\n",
       "      <th></th>\n",
       "      <th>country</th>\n",
       "      <th>age</th>\n",
       "      <th>salary</th>\n",
       "      <th>purchased</th>\n",
       "    </tr>\n",
       "  </thead>\n",
       "  <tbody>\n",
       "    <tr>\n",
       "      <th>0</th>\n",
       "      <td>United States</td>\n",
       "      <td>36</td>\n",
       "      <td>57000</td>\n",
       "      <td>no</td>\n",
       "    </tr>\n",
       "    <tr>\n",
       "      <th>1</th>\n",
       "      <td>China</td>\n",
       "      <td>25</td>\n",
       "      <td>53000</td>\n",
       "      <td>yes</td>\n",
       "    </tr>\n",
       "    <tr>\n",
       "      <th>2</th>\n",
       "      <td>Japan</td>\n",
       "      <td>40</td>\n",
       "      <td>64000</td>\n",
       "      <td>no</td>\n",
       "    </tr>\n",
       "    <tr>\n",
       "      <th>3</th>\n",
       "      <td>Brazil</td>\n",
       "      <td>36</td>\n",
       "      <td>55000</td>\n",
       "      <td>yes</td>\n",
       "    </tr>\n",
       "    <tr>\n",
       "      <th>4</th>\n",
       "      <td>Japan</td>\n",
       "      <td>48</td>\n",
       "      <td>80000</td>\n",
       "      <td>no</td>\n",
       "    </tr>\n",
       "    <tr>\n",
       "      <th>5</th>\n",
       "      <td>India</td>\n",
       "      <td>43</td>\n",
       "      <td>86000</td>\n",
       "      <td>no</td>\n",
       "    </tr>\n",
       "    <tr>\n",
       "      <th>6</th>\n",
       "      <td>Brazil</td>\n",
       "      <td>29</td>\n",
       "      <td>67000</td>\n",
       "      <td>yes</td>\n",
       "    </tr>\n",
       "    <tr>\n",
       "      <th>7</th>\n",
       "      <td>United States</td>\n",
       "      <td>34</td>\n",
       "      <td>89000</td>\n",
       "      <td>yes</td>\n",
       "    </tr>\n",
       "    <tr>\n",
       "      <th>8</th>\n",
       "      <td>United States</td>\n",
       "      <td>44</td>\n",
       "      <td>50000</td>\n",
       "      <td>no</td>\n",
       "    </tr>\n",
       "    <tr>\n",
       "      <th>9</th>\n",
       "      <td>Brazil</td>\n",
       "      <td>39</td>\n",
       "      <td>65000</td>\n",
       "      <td>yes</td>\n",
       "    </tr>\n",
       "  </tbody>\n",
       "</table>\n",
       "</div>"
      ],
      "text/plain": [
       "         country  age  salary purchased\n",
       "0  United States   36   57000        no\n",
       "1          China   25   53000       yes\n",
       "2          Japan   40   64000        no\n",
       "3         Brazil   36   55000       yes\n",
       "4          Japan   48   80000        no\n",
       "5          India   43   86000        no\n",
       "6         Brazil   29   67000       yes\n",
       "7  United States   34   89000       yes\n",
       "8  United States   44   50000        no\n",
       "9         Brazil   39   65000       yes"
      ]
     },
     "execution_count": 25,
     "metadata": {},
     "output_type": "execute_result"
    }
   ],
   "source": [
    "dataset"
   ]
  },
  {
   "cell_type": "markdown",
   "id": "8f301452-f2d4-4f7a-a41d-be789e4a3d2e",
   "metadata": {},
   "source": [
    "### Now from the data set we need to separate the independent and dependent variables. \n",
    "### In this case Age is the independent variable and Salary is the dependent variable."
   ]
  },
  {
   "cell_type": "code",
   "execution_count": 26,
   "id": "c3b3e0b5-ccc3-4444-99f5-e8171ecad10e",
   "metadata": {},
   "outputs": [
    {
     "data": {
      "text/plain": [
       "array([36, 25, 40, 36, 48, 43, 29, 34, 44, 39], dtype=int64)"
      ]
     },
     "execution_count": 26,
     "metadata": {},
     "output_type": "execute_result"
    }
   ],
   "source": [
    "x= dataset.iloc[:,2].values   \n",
    "y= dataset.iloc[:,1].values  \n",
    "x;y"
   ]
  },
  {
   "cell_type": "markdown",
   "id": "4fcb8509-c97a-4653-b398-6611f0caaaec",
   "metadata": {},
   "source": [
    "salary = [np.random.randint(50, 90)*1000 for _ in range(10)]\n",
    "country = [np.random.choice(country_list) for _ in range(10)]\n",
    "purchased = [np.random.choice(['yes','no']) for _ in range(10)]\n",
    "age = [np.random.randint(25,50) for _ in range(10)]\n",
    "data_dict = {\n",
    "    'country': country,\n",
    "    'age' : age,\n",
    "    'salary' : salary,\n",
    "    'purchased': purchased\n",
    "}\n",
    "d = pd.DataFrame(data_dict)\n",
    "d.to_csv('data4.csv',index= False)"
   ]
  },
  {
   "cell_type": "code",
   "execution_count": null,
   "id": "de66a391-65c5-4a12-805d-dcf6d944a3a9",
   "metadata": {},
   "outputs": [],
   "source": []
  }
 ],
 "metadata": {
  "kernelspec": {
   "display_name": "Python 3 (ipykernel)",
   "language": "python",
   "name": "python3"
  },
  "language_info": {
   "codemirror_mode": {
    "name": "ipython",
    "version": 3
   },
   "file_extension": ".py",
   "mimetype": "text/x-python",
   "name": "python",
   "nbconvert_exporter": "python",
   "pygments_lexer": "ipython3",
   "version": "3.12.1"
  }
 },
 "nbformat": 4,
 "nbformat_minor": 5
}
